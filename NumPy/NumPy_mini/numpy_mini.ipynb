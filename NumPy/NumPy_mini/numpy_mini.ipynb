{
  "nbformat": 4,
  "nbformat_minor": 0,
  "metadata": {
    "colab": {
      "provenance": []
    },
    "kernelspec": {
      "name": "python3",
      "display_name": "Python 3"
    },
    "language_info": {
      "name": "python"
    }
  },
  "cells": [
    {
      "cell_type": "code",
      "execution_count": 19,
      "metadata": {
        "id": "-gfZi-L_Kxew"
      },
      "outputs": [],
      "source": [
        "import numpy as np"
      ]
    },
    {
      "cell_type": "markdown",
      "source": [
        "1.**Data Creation** : Create suitable arrays to represent students, subjects, and their marks."
      ],
      "metadata": {
        "id": "sFPC_KtUWLG9"
      }
    },
    {
      "cell_type": "code",
      "source": [
        "marks=np.random.randint(25,95,20).reshape(5,4)        #students=5 , subjects=4\n",
        "print(marks)\n"
      ],
      "metadata": {
        "colab": {
          "base_uri": "https://localhost:8080/"
        },
        "id": "cNcMAJKyWX6X",
        "outputId": "f548e197-1151-4fe6-ca72-bced0785037b"
      },
      "execution_count": 20,
      "outputs": [
        {
          "output_type": "stream",
          "name": "stdout",
          "text": [
            "[[64 74 87 62]\n",
            " [88 40 46 34]\n",
            " [47 87 75 59]\n",
            " [81 64 65 71]\n",
            " [84 25 45 62]]\n"
          ]
        }
      ]
    },
    {
      "cell_type": "markdown",
      "source": [
        "2.**Data Exploration**:Explore the properties of these arrays — such as their dimensions, size, and structure"
      ],
      "metadata": {
        "id": "UhXEd1LugO6h"
      }
    },
    {
      "cell_type": "code",
      "source": [
        "print(\"dimension:\", marks.ndim)                    #dimension of the given array\n",
        "print(\"size:\", marks.size )                        #number of elements present in given array\n",
        "print(\"Shape:\", marks.shape)                       #shape for give array  i.e: (rows, col)\n",
        "print(\"data types:\", marks.dtype)                  # gives type of the array elements"
      ],
      "metadata": {
        "colab": {
          "base_uri": "https://localhost:8080/"
        },
        "id": "JkNE8j4KgavX",
        "outputId": "fd1a499a-9028-44f8-c1db-a7f0b135434b"
      },
      "execution_count": 21,
      "outputs": [
        {
          "output_type": "stream",
          "name": "stdout",
          "text": [
            "dimension: 2\n",
            "size: 20\n",
            "Shape: (5, 4)\n",
            "data types: int64\n"
          ]
        }
      ]
    },
    {
      "cell_type": "markdown",
      "source": [
        "3.**Data Transformation**:Perform necessary reshaping and reorganization of the data to suit various operations\n",
        "\n"
      ],
      "metadata": {
        "id": "mzr4DU4JihGL"
      }
    },
    {
      "cell_type": "code",
      "source": [
        "reshaped_marks=marks.flatten()                     # reshaping 2D into 1D\n",
        "print(\"reshaped marks:\",reshaped_marks )"
      ],
      "metadata": {
        "colab": {
          "base_uri": "https://localhost:8080/"
        },
        "id": "fkL3Mgqzit-S",
        "outputId": "aa55d813-1b17-471d-a056-a24598628839"
      },
      "execution_count": 22,
      "outputs": [
        {
          "output_type": "stream",
          "name": "stdout",
          "text": [
            "reshaped marks: [64 74 87 62 88 40 46 34 47 87 75 59 81 64 65 71 84 25 45 62]\n"
          ]
        }
      ]
    },
    {
      "cell_type": "markdown",
      "source": [
        "4.**Data Combination**:Merge or split arrays to simulate adding new students, new subjects, or reorganizing the dataset"
      ],
      "metadata": {
        "id": "VTto33L1jgwr"
      }
    },
    {
      "cell_type": "code",
      "source": [
        "new_student_marks=np.array([[32,64,81,49]])                                   #Adding new student marks\n",
        "updated_newstud_marks=np.vstack([marks, new_student_marks])\n",
        "print(updated_newstud_marks)\n",
        "\n"
      ],
      "metadata": {
        "colab": {
          "base_uri": "https://localhost:8080/"
        },
        "id": "kvTO-kdBBuYR",
        "outputId": "67237a4d-c34d-47ac-86d2-b84d6ea626d3"
      },
      "execution_count": 23,
      "outputs": [
        {
          "output_type": "stream",
          "name": "stdout",
          "text": [
            "[[64 74 87 62]\n",
            " [88 40 46 34]\n",
            " [47 87 75 59]\n",
            " [81 64 65 71]\n",
            " [84 25 45 62]\n",
            " [32 64 81 49]]\n"
          ]
        }
      ]
    },
    {
      "cell_type": "code",
      "source": [
        "new_subject=np.array([[39], [24], [73], [52],[48], [59]])                      #Adding new subject marks for each students\n",
        "updated_subject_marks=np.hstack([updated_newstud_marks, new_subject])\n",
        "print(updated_subject_marks)"
      ],
      "metadata": {
        "colab": {
          "base_uri": "https://localhost:8080/"
        },
        "id": "BnOi7Ru8FCPB",
        "outputId": "64aceab2-3bf1-402e-b288-61e4c54fb790"
      },
      "execution_count": 24,
      "outputs": [
        {
          "output_type": "stream",
          "name": "stdout",
          "text": [
            "[[64 74 87 62 39]\n",
            " [88 40 46 34 24]\n",
            " [47 87 75 59 73]\n",
            " [81 64 65 71 52]\n",
            " [84 25 45 62 48]\n",
            " [32 64 81 49 59]]\n"
          ]
        }
      ]
    },
    {
      "cell_type": "markdown",
      "source": [
        "5.**Data Modification**:Apply operations to update marks, remove data, or identify unique information"
      ],
      "metadata": {
        "id": "RHuZHEuTJPE0"
      }
    },
    {
      "cell_type": "code",
      "source": [
        "updated_newstud_marks[:,1]=updated_newstud_marks[:,1]+5      #increase marks of all students in col indext 1 by 5\n",
        "print(updated_newstud_marks)"
      ],
      "metadata": {
        "colab": {
          "base_uri": "https://localhost:8080/"
        },
        "id": "2vnQOsdZK-5t",
        "outputId": "dab34972-b562-49eb-ab57-c571ab19e27a"
      },
      "execution_count": 25,
      "outputs": [
        {
          "output_type": "stream",
          "name": "stdout",
          "text": [
            "[[64 79 87 62]\n",
            " [88 45 46 34]\n",
            " [47 92 75 59]\n",
            " [81 69 65 71]\n",
            " [84 30 45 62]\n",
            " [32 69 81 49]]\n"
          ]
        }
      ]
    },
    {
      "cell_type": "code",
      "source": [
        "updated_newstud_marks[1,0]=92                               #update a specific student's marks\n",
        "print(updated_newstud_marks)"
      ],
      "metadata": {
        "colab": {
          "base_uri": "https://localhost:8080/"
        },
        "id": "ezHS_yA4X3Uw",
        "outputId": "2655f8b4-0a8c-4abf-dc38-8fc4adf80b26"
      },
      "execution_count": 26,
      "outputs": [
        {
          "output_type": "stream",
          "name": "stdout",
          "text": [
            "[[64 79 87 62]\n",
            " [92 45 46 34]\n",
            " [47 92 75 59]\n",
            " [81 69 65 71]\n",
            " [84 30 45 62]\n",
            " [32 69 81 49]]\n"
          ]
        }
      ]
    },
    {
      "cell_type": "code",
      "source": [
        "removed_stud=np.delete(updated_newstud_marks,3, axis=0)   #remove a student of 3rd row index\n",
        "print(\"removed student : \\n\",removed_stud)\n",
        "\n",
        "removed_subject=np.delete(marks, 1, axis=1)              #removed a subject of 1st col index\n",
        "print(\"\\n removed subjects:\\n\",removed_subject)"
      ],
      "metadata": {
        "colab": {
          "base_uri": "https://localhost:8080/"
        },
        "id": "5GObnSU9cqA_",
        "outputId": "49b016b1-a35d-4529-ab3b-5f3fe66cd63a"
      },
      "execution_count": 27,
      "outputs": [
        {
          "output_type": "stream",
          "name": "stdout",
          "text": [
            "removed student : \n",
            " [[64 79 87 62]\n",
            " [92 45 46 34]\n",
            " [47 92 75 59]\n",
            " [84 30 45 62]\n",
            " [32 69 81 49]]\n",
            "\n",
            " removed subjects:\n",
            " [[64 87 62]\n",
            " [88 46 34]\n",
            " [47 75 59]\n",
            " [81 65 71]\n",
            " [84 45 62]]\n"
          ]
        }
      ]
    },
    {
      "cell_type": "code",
      "source": [
        "unique_marks=np.unique(marks)\n",
        "print( \"unique marks:\",unique_marks)\n",
        "high_score=marks[marks>85]\n",
        "print(\"high score:\",high_score)"
      ],
      "metadata": {
        "colab": {
          "base_uri": "https://localhost:8080/"
        },
        "id": "jCQXT3qHfr0q",
        "outputId": "5f6888fe-86bc-45ad-f44b-da49622d287c"
      },
      "execution_count": 28,
      "outputs": [
        {
          "output_type": "stream",
          "name": "stdout",
          "text": [
            "unique marks: [25 34 40 45 46 47 59 62 64 65 71 74 75 81 84 87 88]\n",
            "high score: [87 88 87]\n"
          ]
        }
      ]
    },
    {
      "cell_type": "markdown",
      "source": [
        "6.**Data Type Handling** :Demonstrate how the same data can exist in different data types and how changes affect results"
      ],
      "metadata": {
        "id": "kHAKLUCKAwlR"
      }
    },
    {
      "cell_type": "code",
      "source": [
        "type_casting=removed_stud.astype(dtype='float')     #covert int to float\n",
        "print(type_casting)\n",
        "\n",
        "type_cast_str=removed_stud.astype(dtype='str')      #covert int to str\n",
        "print(type_cast_str)\n",
        "\n",
        "type_cast_set=removed_stud.astype(dtype='object')   #convert into to object(list)\n",
        "print(type_cast_set)\n"
      ],
      "metadata": {
        "id": "y4aBihjSi59k",
        "colab": {
          "base_uri": "https://localhost:8080/"
        },
        "outputId": "741b96e5-5a0d-43ef-f937-b4b8b625d5ab"
      },
      "execution_count": 29,
      "outputs": [
        {
          "output_type": "stream",
          "name": "stdout",
          "text": [
            "[[64. 79. 87. 62.]\n",
            " [92. 45. 46. 34.]\n",
            " [47. 92. 75. 59.]\n",
            " [84. 30. 45. 62.]\n",
            " [32. 69. 81. 49.]]\n",
            "[['64' '79' '87' '62']\n",
            " ['92' '45' '46' '34']\n",
            " ['47' '92' '75' '59']\n",
            " ['84' '30' '45' '62']\n",
            " ['32' '69' '81' '49']]\n",
            "[[64 79 87 62]\n",
            " [92 45 46 34]\n",
            " [47 92 75 59]\n",
            " [84 30 45 62]\n",
            " [32 69 81 49]]\n"
          ]
        }
      ]
    },
    {
      "cell_type": "markdown",
      "source": [
        "7.**Copy and View Behavior**:Show the difference between creating a full copy of an array and creating a view of the same data"
      ],
      "metadata": {
        "id": "YATAaxdZFisE"
      }
    },
    {
      "cell_type": "code",
      "source": [
        "marks_view=marks.view()                     #changes made to the view are reflected in the original array\n",
        "marks_view[0,0]=100\n",
        "print(\"After editing view:\\n\")\n",
        "print(\"Original marks:\\n\",marks)\n",
        "print(\"\\nmarks view:\\n\",marks_view)"
      ],
      "metadata": {
        "colab": {
          "base_uri": "https://localhost:8080/"
        },
        "id": "4to99ZKBBsTn",
        "outputId": "0e1471a9-f757-4856-9ca4-e29b158087ea"
      },
      "execution_count": 30,
      "outputs": [
        {
          "output_type": "stream",
          "name": "stdout",
          "text": [
            "After editing view:\n",
            "\n",
            "Original marks:\n",
            " [[100  74  87  62]\n",
            " [ 88  40  46  34]\n",
            " [ 47  87  75  59]\n",
            " [ 81  64  65  71]\n",
            " [ 84  25  45  62]]\n",
            "\n",
            "marks view:\n",
            " [[100  74  87  62]\n",
            " [ 88  40  46  34]\n",
            " [ 47  87  75  59]\n",
            " [ 81  64  65  71]\n",
            " [ 84  25  45  62]]\n"
          ]
        }
      ]
    },
    {
      "cell_type": "code",
      "source": [
        "marks_copy=marks.copy()                        #Changes made to the copy do not affect the original array\n",
        "marks_copy[1,1]=900\n",
        "print(\"After edting copy:\\n\")\n",
        "print(\"Original_marks :\\n\",marks)\n",
        "print(\"\\ncopyed marks:\\n\",marks_copy)"
      ],
      "metadata": {
        "colab": {
          "base_uri": "https://localhost:8080/"
        },
        "id": "SkU_X8y3EZFq",
        "outputId": "da38554d-611e-434d-e586-788c34ebeaeb"
      },
      "execution_count": 32,
      "outputs": [
        {
          "output_type": "stream",
          "name": "stdout",
          "text": [
            "After edting copy:\n",
            "\n",
            "Original_marks :\n",
            " [[100  74  87  62]\n",
            " [ 88  40  46  34]\n",
            " [ 47  87  75  59]\n",
            " [ 81  64  65  71]\n",
            " [ 84  25  45  62]]\n",
            "\n",
            "copyed marks:\n",
            " [[100  74  87  62]\n",
            " [ 88 900  46  34]\n",
            " [ 47  87  75  59]\n",
            " [ 81  64  65  71]\n",
            " [ 84  25  45  62]]\n"
          ]
        }
      ]
    }
  ]
}